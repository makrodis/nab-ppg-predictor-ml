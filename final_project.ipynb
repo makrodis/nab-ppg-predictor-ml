{
 "cells": [
  {
   "cell_type": "markdown",
   "metadata": {},
   "source": [
    "# INFO 1998 Final Project \n",
    "# by Markus Beasley and Mohmamed Bari"
   ]
  },
  {
   "cell_type": "markdown",
   "metadata": {},
   "source": [
    "__INTRODUCTION__\n",
    "\n",
    "This project will use machine learning techniques in order to predict and understand the question: What factors affect a player's points per game in the regular season? \n",
    "\n",
    "Techniques learned from this course will be applied to determine which factors play the biggest role in affecting a player's points per game and how this statistic can be predicted using machine learning models. We will specifically exclude features relating to offensive statistics in our project because these would predict with a near perfect accuracy and we are looking for some less intuitive features that can be used to predict points per game. Some of these less intuitive features would include the age of a player, how many blocks they had, or rebounds etc."
   ]
  },
  {
   "cell_type": "markdown",
   "metadata": {},
   "source": [
    "__SOURCES__\n",
    "\n",
    "The following CSV file was found on Kaggle.com and was obtained under the CC 4.0 free and public use license.\n",
    "\n",
    "The data set can be found through this link: https://www.kaggle.com/datasets/vivovinco/20222023-nba-player-stats-regular"
   ]
  },
  {
   "cell_type": "code",
   "execution_count": 117,
   "metadata": {},
   "outputs": [],
   "source": [
    "#importing packages\n",
    "import numpy as np\n",
    "import pandas as pd\n",
    "import sklearn\n",
    "from sklearn.linear_model import LinearRegression\n",
    "from sklearn.model_selection import train_test_split\n",
    "from sklearn.metrics import mean_squared_error\n",
    "import matplotlib.pyplot as plt\n",
    "from sklearn.tree import DecisionTreeRegressor\n",
    "from sklearn import tree\n"
   ]
  },
  {
   "cell_type": "code",
   "execution_count": 118,
   "metadata": {},
   "outputs": [
    {
     "name": "stdout",
     "output_type": "stream",
     "text": [
      "<class 'pandas.core.frame.DataFrame'>\n",
      "RangeIndex: 679 entries, 0 to 678\n",
      "Data columns (total 30 columns):\n",
      " #   Column  Non-Null Count  Dtype  \n",
      "---  ------  --------------  -----  \n",
      " 0   Rk      679 non-null    int64  \n",
      " 1   Player  679 non-null    object \n",
      " 2   Pos     679 non-null    object \n",
      " 3   Age     679 non-null    int64  \n",
      " 4   Tm      679 non-null    object \n",
      " 5   G       679 non-null    int64  \n",
      " 6   GS      679 non-null    int64  \n",
      " 7   MP      679 non-null    float64\n",
      " 8   FG      679 non-null    float64\n",
      " 9   FGA     679 non-null    float64\n",
      " 10  FG%     679 non-null    float64\n",
      " 11  3P      679 non-null    float64\n",
      " 12  3PA     679 non-null    float64\n",
      " 13  3P%     679 non-null    float64\n",
      " 14  2P      679 non-null    float64\n",
      " 15  2PA     679 non-null    float64\n",
      " 16  2P%     679 non-null    float64\n",
      " 17  eFG%    679 non-null    float64\n",
      " 18  FT      679 non-null    float64\n",
      " 19  FTA     679 non-null    float64\n",
      " 20  FT%     679 non-null    float64\n",
      " 21  ORB     679 non-null    float64\n",
      " 22  DRB     679 non-null    float64\n",
      " 23  TRB     679 non-null    float64\n",
      " 24  AST     679 non-null    float64\n",
      " 25  STL     679 non-null    float64\n",
      " 26  BLK     679 non-null    float64\n",
      " 27  TOV     679 non-null    float64\n",
      " 28  PF      679 non-null    float64\n",
      " 29  PTS     679 non-null    float64\n",
      "dtypes: float64(23), int64(4), object(3)\n",
      "memory usage: 159.3+ KB\n"
     ]
    },
    {
     "data": {
      "text/html": [
       "<div>\n",
       "<style scoped>\n",
       "    .dataframe tbody tr th:only-of-type {\n",
       "        vertical-align: middle;\n",
       "    }\n",
       "\n",
       "    .dataframe tbody tr th {\n",
       "        vertical-align: top;\n",
       "    }\n",
       "\n",
       "    .dataframe thead th {\n",
       "        text-align: right;\n",
       "    }\n",
       "</style>\n",
       "<table border=\"1\" class=\"dataframe\">\n",
       "  <thead>\n",
       "    <tr style=\"text-align: right;\">\n",
       "      <th></th>\n",
       "      <th>Rk</th>\n",
       "      <th>Player</th>\n",
       "      <th>Pos</th>\n",
       "      <th>Age</th>\n",
       "      <th>Tm</th>\n",
       "      <th>G</th>\n",
       "      <th>GS</th>\n",
       "      <th>MP</th>\n",
       "      <th>FG</th>\n",
       "      <th>FGA</th>\n",
       "      <th>...</th>\n",
       "      <th>FT%</th>\n",
       "      <th>ORB</th>\n",
       "      <th>DRB</th>\n",
       "      <th>TRB</th>\n",
       "      <th>AST</th>\n",
       "      <th>STL</th>\n",
       "      <th>BLK</th>\n",
       "      <th>TOV</th>\n",
       "      <th>PF</th>\n",
       "      <th>PTS</th>\n",
       "    </tr>\n",
       "  </thead>\n",
       "  <tbody>\n",
       "    <tr>\n",
       "      <th>0</th>\n",
       "      <td>1</td>\n",
       "      <td>Precious Achiuwa</td>\n",
       "      <td>C</td>\n",
       "      <td>23</td>\n",
       "      <td>TOR</td>\n",
       "      <td>55</td>\n",
       "      <td>12</td>\n",
       "      <td>20.7</td>\n",
       "      <td>3.6</td>\n",
       "      <td>7.3</td>\n",
       "      <td>...</td>\n",
       "      <td>0.702</td>\n",
       "      <td>1.8</td>\n",
       "      <td>4.1</td>\n",
       "      <td>6.0</td>\n",
       "      <td>0.9</td>\n",
       "      <td>0.6</td>\n",
       "      <td>0.5</td>\n",
       "      <td>1.1</td>\n",
       "      <td>1.9</td>\n",
       "      <td>9.2</td>\n",
       "    </tr>\n",
       "    <tr>\n",
       "      <th>1</th>\n",
       "      <td>2</td>\n",
       "      <td>Steven Adams</td>\n",
       "      <td>C</td>\n",
       "      <td>29</td>\n",
       "      <td>MEM</td>\n",
       "      <td>42</td>\n",
       "      <td>42</td>\n",
       "      <td>27.0</td>\n",
       "      <td>3.7</td>\n",
       "      <td>6.3</td>\n",
       "      <td>...</td>\n",
       "      <td>0.364</td>\n",
       "      <td>5.1</td>\n",
       "      <td>6.5</td>\n",
       "      <td>11.5</td>\n",
       "      <td>2.3</td>\n",
       "      <td>0.9</td>\n",
       "      <td>1.1</td>\n",
       "      <td>1.9</td>\n",
       "      <td>2.3</td>\n",
       "      <td>8.6</td>\n",
       "    </tr>\n",
       "    <tr>\n",
       "      <th>2</th>\n",
       "      <td>3</td>\n",
       "      <td>Bam Adebayo</td>\n",
       "      <td>C</td>\n",
       "      <td>25</td>\n",
       "      <td>MIA</td>\n",
       "      <td>75</td>\n",
       "      <td>75</td>\n",
       "      <td>34.6</td>\n",
       "      <td>8.0</td>\n",
       "      <td>14.9</td>\n",
       "      <td>...</td>\n",
       "      <td>0.806</td>\n",
       "      <td>2.5</td>\n",
       "      <td>6.7</td>\n",
       "      <td>9.2</td>\n",
       "      <td>3.2</td>\n",
       "      <td>1.2</td>\n",
       "      <td>0.8</td>\n",
       "      <td>2.5</td>\n",
       "      <td>2.8</td>\n",
       "      <td>20.4</td>\n",
       "    </tr>\n",
       "    <tr>\n",
       "      <th>3</th>\n",
       "      <td>4</td>\n",
       "      <td>Ochai Agbaji</td>\n",
       "      <td>SG</td>\n",
       "      <td>22</td>\n",
       "      <td>UTA</td>\n",
       "      <td>59</td>\n",
       "      <td>22</td>\n",
       "      <td>20.5</td>\n",
       "      <td>2.8</td>\n",
       "      <td>6.5</td>\n",
       "      <td>...</td>\n",
       "      <td>0.812</td>\n",
       "      <td>0.7</td>\n",
       "      <td>1.3</td>\n",
       "      <td>2.1</td>\n",
       "      <td>1.1</td>\n",
       "      <td>0.3</td>\n",
       "      <td>0.3</td>\n",
       "      <td>0.7</td>\n",
       "      <td>1.7</td>\n",
       "      <td>7.9</td>\n",
       "    </tr>\n",
       "    <tr>\n",
       "      <th>4</th>\n",
       "      <td>5</td>\n",
       "      <td>Santi Aldama</td>\n",
       "      <td>PF</td>\n",
       "      <td>22</td>\n",
       "      <td>MEM</td>\n",
       "      <td>77</td>\n",
       "      <td>20</td>\n",
       "      <td>21.8</td>\n",
       "      <td>3.2</td>\n",
       "      <td>6.8</td>\n",
       "      <td>...</td>\n",
       "      <td>0.750</td>\n",
       "      <td>1.1</td>\n",
       "      <td>3.7</td>\n",
       "      <td>4.8</td>\n",
       "      <td>1.3</td>\n",
       "      <td>0.6</td>\n",
       "      <td>0.6</td>\n",
       "      <td>0.8</td>\n",
       "      <td>1.9</td>\n",
       "      <td>9.0</td>\n",
       "    </tr>\n",
       "  </tbody>\n",
       "</table>\n",
       "<p>5 rows × 30 columns</p>\n",
       "</div>"
      ],
      "text/plain": [
       "   Rk            Player Pos  Age   Tm   G  GS    MP   FG   FGA  ...    FT%  \\\n",
       "0   1  Precious Achiuwa   C   23  TOR  55  12  20.7  3.6   7.3  ...  0.702   \n",
       "1   2      Steven Adams   C   29  MEM  42  42  27.0  3.7   6.3  ...  0.364   \n",
       "2   3       Bam Adebayo   C   25  MIA  75  75  34.6  8.0  14.9  ...  0.806   \n",
       "3   4      Ochai Agbaji  SG   22  UTA  59  22  20.5  2.8   6.5  ...  0.812   \n",
       "4   5      Santi Aldama  PF   22  MEM  77  20  21.8  3.2   6.8  ...  0.750   \n",
       "\n",
       "   ORB  DRB   TRB  AST  STL  BLK  TOV   PF   PTS  \n",
       "0  1.8  4.1   6.0  0.9  0.6  0.5  1.1  1.9   9.2  \n",
       "1  5.1  6.5  11.5  2.3  0.9  1.1  1.9  2.3   8.6  \n",
       "2  2.5  6.7   9.2  3.2  1.2  0.8  2.5  2.8  20.4  \n",
       "3  0.7  1.3   2.1  1.1  0.3  0.3  0.7  1.7   7.9  \n",
       "4  1.1  3.7   4.8  1.3  0.6  0.6  0.8  1.9   9.0  \n",
       "\n",
       "[5 rows x 30 columns]"
      ]
     },
     "execution_count": 118,
     "metadata": {},
     "output_type": "execute_result"
    }
   ],
   "source": [
    "#Loading the data and getting its general info\n",
    "df = pd.read_csv('2022-2023NBAPlayerStats-Regular.csv', sep=';', encoding='latin1')\n",
    "df.info()\n",
    "df.head()"
   ]
  },
  {
   "cell_type": "markdown",
   "metadata": {},
   "source": [
    "__Data Visualization__\n",
    "\n",
    "We will now look at our data in the form of graphs to see if we can determine any trends prior to using machine learning to answer our question. "
   ]
  },
  {
   "cell_type": "markdown",
   "metadata": {},
   "source": [
    "Based on common sense it can be assumed that someone who is older and has played more games during the season will have more experience and will therefore score more points. We will investigate this using a pie chart."
   ]
  },
  {
   "cell_type": "code",
   "execution_count": 119,
   "metadata": {},
   "outputs": [
    {
     "name": "stderr",
     "output_type": "stream",
     "text": [
      "/var/folders/cl/rt7yhgcs66z130893pc2kbzw0000gn/T/ipykernel_39428/3291692929.py:6: UserWarning: Boolean Series key will be reindexed to match DataFrame index.\n",
      "  older_equalto_30_points  = older_equalto_30[df['PTS'] > 15]\n",
      "/var/folders/cl/rt7yhgcs66z130893pc2kbzw0000gn/T/ipykernel_39428/3291692929.py:7: UserWarning: Boolean Series key will be reindexed to match DataFrame index.\n",
      "  younger_30_points = younger_30[df['PTS'] > 15]\n",
      "/var/folders/cl/rt7yhgcs66z130893pc2kbzw0000gn/T/ipykernel_39428/3291692929.py:8: UserWarning: Boolean Series key will be reindexed to match DataFrame index.\n",
      "  games_more_equalto_50_points = games_more_equalto_50[df['PTS'] > 15]\n",
      "/var/folders/cl/rt7yhgcs66z130893pc2kbzw0000gn/T/ipykernel_39428/3291692929.py:9: UserWarning: Boolean Series key will be reindexed to match DataFrame index.\n",
      "  games_less_50_points = games_less_50[df['PTS'] > 15]\n"
     ]
    },
    {
     "data": {
      "image/png": "[encoded data removed]",
      "text/plain": [
       "<Figure size 432x288 with 1 Axes>"
      ]
     },
     "metadata": {},
     "output_type": "display_data"
    }
   ],
   "source": [
    "older_equalto_30 = df[df['Age'] >= 30]\n",
    "younger_30 = df[df['Age'] < 30]\n",
    "games_more_equalto_50 = df[df['G'] >= 50]\n",
    "games_less_50 = df[df['G'] < 30]\n",
    "\n",
    "older_equalto_30_points  = older_equalto_30[df['PTS'] > 15]\n",
    "younger_30_points = younger_30[df['PTS'] > 15]\n",
    "games_more_equalto_50_points = games_more_equalto_50[df['PTS'] > 15]\n",
    "games_less_50_points = games_less_50[df['PTS'] > 15]\n",
    "\n",
    "plt.pie(x=[len(older_equalto_30_points), len(younger_30_points), len(games_more_equalto_50_points), len(games_less_50_points)], autopct='%1.1f%%',)\n",
    "plt.legend(['Players aged 30 or older who average more than 15 points per game', 'Players younger than 30 who average more than 15 points per game','Players who played 50 or more games during the season and average more than 15 points per game', 'Players who played less thann 50 games during the season and avergae more than 15 points per game'])\n",
    "plt.title('Performance of Players Based On Experience')\n",
    "plt.show()"
   ]
  },
  {
   "cell_type": "markdown",
   "metadata": {},
   "source": [
    "The pie chart seems to show that players with more experience, whether its in age or games played, score more points per game than players who have less exerience."
   ]
  },
  {
   "cell_type": "markdown",
   "metadata": {},
   "source": [
    "In this next section personal fouls per game will graphed against the points scored per game to determine if this factors into how many points per game a player will score. For exmaple, it could be that a player who fouls a lot will also not score a lot because they are in a more defense oriented position. "
   ]
  },
  {
   "cell_type": "code",
   "execution_count": 120,
   "metadata": {},
   "outputs": [
    {
     "name": "stdout",
     "output_type": "stream",
     "text": [
      "The average number of personal fouls per game is:  1.660677466863034\n"
     ]
    },
    {
     "data": {
      "image/png": "[encoded data removed]",
      "text/plain": [
       "<Figure size 432x288 with 1 Axes>"
      ]
     },
     "metadata": {
      "needs_background": "light"
     },
     "output_type": "display_data"
    }
   ],
   "source": [
    "x = df['PF']\n",
    "y = df['PTS']\n",
    "print(\"The average number of personal fouls per game is: \", x.mean())\n",
    "plt.scatter(x, y)\n",
    "plt.show()"
   ]
  },
  {
   "cell_type": "markdown",
   "metadata": {},
   "source": [
    "From this scatter plot it can be seen that there is rough correlation between points scored and fouls per game. It seems that players who average less than one personal foul per game do not score a lot of points in comparison. From this data we can infer its probably because they don't get a lot of playtime. Since this correlation is still pretty rough, there are likely better features to predict points per game which we will find later in this project."
   ]
  },
  {
   "cell_type": "markdown",
   "metadata": {},
   "source": [
    "__MODELS__\n",
    "\n",
    "Now that we have some idea of what factors affect how many points per game a player will score, we will now use machine learning models to predict a player's points per game based on those factors. We will also test multiple factors and multiple models to see which combination can best predict a player's points per game statistic."
   ]
  },
  {
   "cell_type": "markdown",
   "metadata": {},
   "source": [
    "To start we will use a linear regression model."
   ]
  },
  {
   "cell_type": "markdown",
   "metadata": {},
   "source": [
    "First we need to manipulate the data set to get rid of feautures which are irrelevant to our question or feautures which are not numerical since it would be hard to use linear regression on them. We will also get rid of any features relating to offensive statistics. It would be trivial to use these features predict points scored per game since they would predict it with very high accuracy and we are looking for alternative features that could be used to do this. "
   ]
  },
  {
   "cell_type": "code",
   "execution_count": 121,
   "metadata": {},
   "outputs": [
    {
     "data": {
      "text/html": [
       "<div>\n",
       "<style scoped>\n",
       "    .dataframe tbody tr th:only-of-type {\n",
       "        vertical-align: middle;\n",
       "    }\n",
       "\n",
       "    .dataframe tbody tr th {\n",
       "        vertical-align: top;\n",
       "    }\n",
       "\n",
       "    .dataframe thead th {\n",
       "        text-align: right;\n",
       "    }\n",
       "</style>\n",
       "<table border=\"1\" class=\"dataframe\">\n",
       "  <thead>\n",
       "    <tr style=\"text-align: right;\">\n",
       "      <th></th>\n",
       "      <th>Age</th>\n",
       "      <th>G</th>\n",
       "      <th>GS</th>\n",
       "      <th>MP</th>\n",
       "      <th>DRB</th>\n",
       "      <th>TRB</th>\n",
       "      <th>STL</th>\n",
       "      <th>BLK</th>\n",
       "      <th>TOV</th>\n",
       "      <th>PF</th>\n",
       "      <th>PTS</th>\n",
       "    </tr>\n",
       "  </thead>\n",
       "  <tbody>\n",
       "    <tr>\n",
       "      <th>0</th>\n",
       "      <td>23</td>\n",
       "      <td>55</td>\n",
       "      <td>12</td>\n",
       "      <td>20.7</td>\n",
       "      <td>4.1</td>\n",
       "      <td>6.0</td>\n",
       "      <td>0.6</td>\n",
       "      <td>0.5</td>\n",
       "      <td>1.1</td>\n",
       "      <td>1.9</td>\n",
       "      <td>9.2</td>\n",
       "    </tr>\n",
       "    <tr>\n",
       "      <th>1</th>\n",
       "      <td>29</td>\n",
       "      <td>42</td>\n",
       "      <td>42</td>\n",
       "      <td>27.0</td>\n",
       "      <td>6.5</td>\n",
       "      <td>11.5</td>\n",
       "      <td>0.9</td>\n",
       "      <td>1.1</td>\n",
       "      <td>1.9</td>\n",
       "      <td>2.3</td>\n",
       "      <td>8.6</td>\n",
       "    </tr>\n",
       "    <tr>\n",
       "      <th>2</th>\n",
       "      <td>25</td>\n",
       "      <td>75</td>\n",
       "      <td>75</td>\n",
       "      <td>34.6</td>\n",
       "      <td>6.7</td>\n",
       "      <td>9.2</td>\n",
       "      <td>1.2</td>\n",
       "      <td>0.8</td>\n",
       "      <td>2.5</td>\n",
       "      <td>2.8</td>\n",
       "      <td>20.4</td>\n",
       "    </tr>\n",
       "    <tr>\n",
       "      <th>3</th>\n",
       "      <td>22</td>\n",
       "      <td>59</td>\n",
       "      <td>22</td>\n",
       "      <td>20.5</td>\n",
       "      <td>1.3</td>\n",
       "      <td>2.1</td>\n",
       "      <td>0.3</td>\n",
       "      <td>0.3</td>\n",
       "      <td>0.7</td>\n",
       "      <td>1.7</td>\n",
       "      <td>7.9</td>\n",
       "    </tr>\n",
       "    <tr>\n",
       "      <th>4</th>\n",
       "      <td>22</td>\n",
       "      <td>77</td>\n",
       "      <td>20</td>\n",
       "      <td>21.8</td>\n",
       "      <td>3.7</td>\n",
       "      <td>4.8</td>\n",
       "      <td>0.6</td>\n",
       "      <td>0.6</td>\n",
       "      <td>0.8</td>\n",
       "      <td>1.9</td>\n",
       "      <td>9.0</td>\n",
       "    </tr>\n",
       "    <tr>\n",
       "      <th>...</th>\n",
       "      <td>...</td>\n",
       "      <td>...</td>\n",
       "      <td>...</td>\n",
       "      <td>...</td>\n",
       "      <td>...</td>\n",
       "      <td>...</td>\n",
       "      <td>...</td>\n",
       "      <td>...</td>\n",
       "      <td>...</td>\n",
       "      <td>...</td>\n",
       "      <td>...</td>\n",
       "    </tr>\n",
       "    <tr>\n",
       "      <th>674</th>\n",
       "      <td>34</td>\n",
       "      <td>54</td>\n",
       "      <td>9</td>\n",
       "      <td>14.7</td>\n",
       "      <td>1.8</td>\n",
       "      <td>3.1</td>\n",
       "      <td>1.0</td>\n",
       "      <td>0.1</td>\n",
       "      <td>0.8</td>\n",
       "      <td>1.6</td>\n",
       "      <td>4.4</td>\n",
       "    </tr>\n",
       "    <tr>\n",
       "      <th>675</th>\n",
       "      <td>24</td>\n",
       "      <td>73</td>\n",
       "      <td>73</td>\n",
       "      <td>34.8</td>\n",
       "      <td>2.2</td>\n",
       "      <td>3.0</td>\n",
       "      <td>1.1</td>\n",
       "      <td>0.1</td>\n",
       "      <td>4.1</td>\n",
       "      <td>1.4</td>\n",
       "      <td>26.2</td>\n",
       "    </tr>\n",
       "    <tr>\n",
       "      <th>676</th>\n",
       "      <td>24</td>\n",
       "      <td>9</td>\n",
       "      <td>0</td>\n",
       "      <td>9.2</td>\n",
       "      <td>1.7</td>\n",
       "      <td>2.6</td>\n",
       "      <td>0.2</td>\n",
       "      <td>0.2</td>\n",
       "      <td>0.4</td>\n",
       "      <td>1.8</td>\n",
       "      <td>4.4</td>\n",
       "    </tr>\n",
       "    <tr>\n",
       "      <th>677</th>\n",
       "      <td>30</td>\n",
       "      <td>15</td>\n",
       "      <td>2</td>\n",
       "      <td>14.5</td>\n",
       "      <td>2.6</td>\n",
       "      <td>4.3</td>\n",
       "      <td>0.2</td>\n",
       "      <td>0.3</td>\n",
       "      <td>0.9</td>\n",
       "      <td>2.2</td>\n",
       "      <td>6.5</td>\n",
       "    </tr>\n",
       "    <tr>\n",
       "      <th>678</th>\n",
       "      <td>25</td>\n",
       "      <td>76</td>\n",
       "      <td>76</td>\n",
       "      <td>28.6</td>\n",
       "      <td>6.8</td>\n",
       "      <td>9.9</td>\n",
       "      <td>0.4</td>\n",
       "      <td>1.3</td>\n",
       "      <td>1.5</td>\n",
       "      <td>2.9</td>\n",
       "      <td>10.8</td>\n",
       "    </tr>\n",
       "  </tbody>\n",
       "</table>\n",
       "<p>679 rows × 11 columns</p>\n",
       "</div>"
      ],
      "text/plain": [
       "     Age   G  GS    MP  DRB   TRB  STL  BLK  TOV   PF   PTS\n",
       "0     23  55  12  20.7  4.1   6.0  0.6  0.5  1.1  1.9   9.2\n",
       "1     29  42  42  27.0  6.5  11.5  0.9  1.1  1.9  2.3   8.6\n",
       "2     25  75  75  34.6  6.7   9.2  1.2  0.8  2.5  2.8  20.4\n",
       "3     22  59  22  20.5  1.3   2.1  0.3  0.3  0.7  1.7   7.9\n",
       "4     22  77  20  21.8  3.7   4.8  0.6  0.6  0.8  1.9   9.0\n",
       "..   ...  ..  ..   ...  ...   ...  ...  ...  ...  ...   ...\n",
       "674   34  54   9  14.7  1.8   3.1  1.0  0.1  0.8  1.6   4.4\n",
       "675   24  73  73  34.8  2.2   3.0  1.1  0.1  4.1  1.4  26.2\n",
       "676   24   9   0   9.2  1.7   2.6  0.2  0.2  0.4  1.8   4.4\n",
       "677   30  15   2  14.5  2.6   4.3  0.2  0.3  0.9  2.2   6.5\n",
       "678   25  76  76  28.6  6.8   9.9  0.4  1.3  1.5  2.9  10.8\n",
       "\n",
       "[679 rows x 11 columns]"
      ]
     },
     "execution_count": 121,
     "metadata": {},
     "output_type": "execute_result"
    }
   ],
   "source": [
    "# removing all offensive and irrelevant features from the dataframe we are working with\n",
    "columns_to_drop = ['Rk', 'Player', 'Pos', 'Tm', 'FG', 'FGA', 'FG%', '3P', '3PA', '3P%', '2P', '2PA', '2P%', 'FT', 'FTA', 'FT%', 'ORB', 'AST', 'eFG%']\n",
    "new_df = df.drop(columns=columns_to_drop)\n",
    "new_df"
   ]
  },
  {
   "cell_type": "markdown",
   "metadata": {},
   "source": [
    "Now for the linear regression we will find the best feature to predict points per game by creating a model for every feature in our new data frame and finding the one with the highest testing accuracy. We will also do this using two features instead of one to see if we can come up with an even more accurate model to predict a players points per game. "
   ]
  },
  {
   "cell_type": "code",
   "execution_count": 122,
   "metadata": {},
   "outputs": [
    {
     "name": "stdout",
     "output_type": "stream",
     "text": [
      "The single best feature to predict a player's points per game is:  MP  with a testing score of:  0.7601854599989968\n"
     ]
    }
   ],
   "source": [
    "best_feature = ''\n",
    "testing_score = 0\n",
    "y = new_df['PTS']\n",
    "\n",
    "for feature in new_df.columns.drop(['PTS']):\n",
    "    X = new_df[feature].to_frame()\n",
    "    X_train, X_test, y_train, y_test = train_test_split(X, y, test_size=0.33, random_state=42)\n",
    "    model = LinearRegression()\n",
    "    model.fit(X_train, y_train)\n",
    "    model.score(X_test, y_test)\n",
    "    if model.score(X_test, y_test) > testing_score:\n",
    "        testing_score = model.score(X_test, y_test)\n",
    "        best_feature = feature\n",
    "print(\"The single best feature to predict a player's points per game is: \", best_feature, \" with a testing score of: \", testing_score)\n"
   ]
  },
  {
   "cell_type": "markdown",
   "metadata": {},
   "source": [
    "We have found that the single best feature we can use to predict points per game is MP which is average number of minutes played a player has per game. We will now use two differnt features in our linear regression to see if we can obtain a higher testing score. "
   ]
  },
  {
   "cell_type": "code",
   "execution_count": 123,
   "metadata": {},
   "outputs": [
    {
     "name": "stdout",
     "output_type": "stream",
     "text": [
      "The best pair of features to predict a player's points per game is:  ('MP', 'TOV')  with a testing score of:  0.8105791071173822\n"
     ]
    }
   ],
   "source": [
    "best_features = ''\n",
    "testing_score = 0\n",
    "y = new_df['PTS']\n",
    "\n",
    "for feature1 in new_df.columns.drop(['PTS']):\n",
    "    for feature2 in new_df.columns.drop(['PTS', feature1]):\n",
    "        X = new_df[[feature1, feature2]]\n",
    "        X_train, X_test, y_train, y_test = train_test_split(X, y, test_size=0.33, random_state=42)\n",
    "        model = LinearRegression()\n",
    "        model.fit(X_train, y_train)\n",
    "        model.score(X_test, y_test)\n",
    "        if model.score(X_test, y_test) > testing_score:\n",
    "            testing_score = model.score(X_test, y_test)\n",
    "            best_features = feature1, feature2\n",
    "print(\"The best pair of features to predict a player's points per game is: \", best_features, \" with a testing score of: \", testing_score)\n",
    "        \n",
    "\n",
    "        \n"
   ]
  },
  {
   "cell_type": "markdown",
   "metadata": {},
   "source": [
    "Using two features instead of just one, we were able to obtain a higher testing score. The best pair of features were MP and TOV which is minutes played per game and turnovers per game. "
   ]
  },
  {
   "cell_type": "markdown",
   "metadata": {},
   "source": [
    "We will now use decision tree regression to predict a players points per game and we will compare the results with our predictions using linear regression. To find the most accurate decision tree we will test multiple different values of max depth and compare their testing accuracy scores."
   ]
  },
  {
   "cell_type": "code",
   "execution_count": 124,
   "metadata": {},
   "outputs": [
    {
     "name": "stdout",
     "output_type": "stream",
     "text": [
      "The best testing score is:  0.8308687186016313  With a max_depth value of:  4\n"
     ]
    }
   ],
   "source": [
    "X = new_df.drop(columns = ['PTS'])\n",
    "Y = new_df['PTS']\n",
    "\n",
    "\n",
    "X_train, X_test, Y_train, Y_test = train_test_split(X, Y, test_size=0.33, random_state=1998)\n",
    "best_score = 0\n",
    "best_max_depth = 0\n",
    "\n",
    "for i in range(1,500):\n",
    "    model = tree.DecisionTreeRegressor(max_depth = i)\n",
    "    model.fit(X_train, Y_train)\n",
    "    score = model.score(X_test, Y_test)\n",
    "    if score > best_score:\n",
    "        best_score = score\n",
    "        best_max_depth = i\n",
    "print(\"The best testing score is: \", best_score, \" With a max_depth value of: \", best_max_depth)\n",
    "    \n",
    "    \n",
    "\n",
    "\n"
   ]
  },
  {
   "cell_type": "markdown",
   "metadata": {},
   "source": [
    "From this testing score we can see that its greater than both the testing scores of when we used a linear regression model."
   ]
  },
  {
   "cell_type": "markdown",
   "metadata": {},
   "source": [
    "__CONCLUSION__\n",
    "\n",
    "A decision tree regressor is the best model to predict the amount of points per game a basketball player will score using non offensive statistics. We know this because it had a higher testing accuracy than both linear regression models and this is likely because decision trees are often better at capturing non linear relationships and we saw in our data visualization how some of the features have a very weak linear relationship to points scored per game. "
   ]
  }
 ],
 "metadata": {
  "kernelspec": {
   "display_name": "Python 3",
   "language": "python",
   "name": "python3"
  },
  "language_info": {
   "codemirror_mode": {
    "name": "ipython",
    "version": 3
   },
   "file_extension": ".py",
   "mimetype": "text/x-python",
   "name": "python",
   "nbconvert_exporter": "python",
   "pygments_lexer": "ipython3",
   "version": "3.9.12"
  }
 },
 "nbformat": 4,
 "nbformat_minor": 2
}
